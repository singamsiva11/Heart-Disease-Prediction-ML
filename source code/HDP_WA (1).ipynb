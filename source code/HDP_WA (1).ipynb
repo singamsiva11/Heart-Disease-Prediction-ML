{
 "cells": [
  {
   "cell_type": "code",
   "execution_count": 1,
   "id": "f52c8d76",
   "metadata": {},
   "outputs": [],
   "source": [
    "import  numpy as np\n",
    "import pickle\n",
    "import streamlit as st"
   ]
  },
  {
   "cell_type": "code",
   "execution_count": 2,
   "id": "9f8a06a9",
   "metadata": {},
   "outputs": [],
   "source": [
    "loaded_model = pickle.load(open(\"C:\\\\Users\\\\geeth\\\\Desktop\\\\HDP\\\\Model\\\\trained_model.sav\",\"rb\"))"
   ]
  },
  {
   "cell_type": "code",
   "execution_count": 3,
   "id": "57dde4bf",
   "metadata": {},
   "outputs": [],
   "source": [
    "def HDP(input_data):\n",
    "    \n",
    "    input_data_as_numpy_array = np.asarray(input_data)\n",
    "    input_data_reshaped = input_data_as_numpy_array.reshape(1,-1)\n",
    "    prediction = loaded_model.predict(input_data_reshaped)\n",
    "    print(prediction)\n",
    "    if (prediction[0] == 0):\n",
    "        return 'The person do not have a Heart Disease'\n",
    "    else :\n",
    "        return 'The person has a Heart Disease'"
   ]
  },
  {
   "cell_type": "code",
   "execution_count": 4,
   "id": "09b6f8d3",
   "metadata": {},
   "outputs": [
    {
     "name": "stderr",
     "output_type": "stream",
     "text": [
      "2023-01-05 09:59:59.341 \n",
      "  \u001b[33m\u001b[1mWarning:\u001b[0m to view this Streamlit app on a browser, run it with the following\n",
      "  command:\n",
      "\n",
      "    streamlit run C:\\Users\\geeth\\anaconda3\\lib\\site-packages\\ipykernel_launcher.py [ARGUMENTS]\n"
     ]
    }
   ],
   "source": [
    "def main():\n",
    "    \n",
    "    st.title('Heart Disease Predictor')\n",
    "    \n",
    "   \n",
    "    age = st.text_input(\"Age\")\n",
    "    sex = st.text_input(\"Gender\")\n",
    "    cp = st.text_input(\"Chest Pain Type\")\n",
    "    trestbps = st.text_input(\"Resting Blood Pressure\")\n",
    "    chol = st.text_input(\"Serum Cholestrol in mg/dl\")\n",
    "    fbs = st.text_input(\"Fasting Blood Sugar\")\n",
    "    restecg = st.text_input(\"Resting Electrocardiographic Results\")\n",
    "    thalach = st.text_input(\"Maximum Heart Rate Achieved\")\n",
    "    exang = st.text_input(\"Exercise Induced Angina\")\n",
    "    oldpeak = st.text_input(\"ST depression induced by exercise\")\n",
    "    slope = st.text_input(\"Slope of the peak exercise ST segment\")\n",
    "    ca = st.text_input(\"Major vessels colored by Flourosopy\")\n",
    "    thal = st.text_input(\"Thalassemia\")\n",
    "    \n",
    "    diagnosis = \"\"\n",
    "    \n",
    "    if st.button('Test Result:'):\n",
    "        diagnosis = HDP(np.array([age,sex,cp,trestbps,chol,fbs,restecg,thalach,exang,oldpeak,slope,ca,thal],dtype = object))\n",
    "    \n",
    "    st.success(diagnosis)\n",
    "    \n",
    "\n",
    "if __name__ == '__main__': \n",
    "    main()"
   ]
  },
  {
   "cell_type": "code",
   "execution_count": null,
   "id": "4e275f42",
   "metadata": {},
   "outputs": [],
   "source": []
  }
 ],
 "metadata": {
  "kernelspec": {
   "display_name": "Python 3 (ipykernel)",
   "language": "python",
   "name": "python3"
  },
  "language_info": {
   "codemirror_mode": {
    "name": "ipython",
    "version": 3
   },
   "file_extension": ".py",
   "mimetype": "text/x-python",
   "name": "python",
   "nbconvert_exporter": "python",
   "pygments_lexer": "ipython3",
   "version": "3.9.13"
  }
 },
 "nbformat": 4,
 "nbformat_minor": 5
}
